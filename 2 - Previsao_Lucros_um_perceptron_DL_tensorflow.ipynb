{
  "nbformat": 4,
  "nbformat_minor": 0,
  "metadata": {
    "colab": {
      "name": "Previsao_Lucros_um_perceptron_DL_tensorflow.ipynb",
      "provenance": [],
      "collapsed_sections": [],
      "include_colab_link": true
    },
    "kernelspec": {
      "name": "python3",
      "display_name": "Python 3"
    },
    "accelerator": "GPU"
  },
  "cells": [
    {
      "cell_type": "markdown",
      "metadata": {
        "id": "view-in-github",
        "colab_type": "text"
      },
      "source": [
        "<a href=\"https://colab.research.google.com/github/EduardoMoraesRitter/deep-learning-tensorflow-python/blob/main/2%20-%20Previsao_Lucros_um_perceptron_DL_tensorflow.ipynb\" target=\"_parent\"><img src=\"https://colab.research.google.com/assets/colab-badge.svg\" alt=\"Open In Colab\"/></a>"
      ]
    },
    {
      "cell_type": "markdown",
      "metadata": {
        "id": "M27qF7CTrBqc"
      },
      "source": [
        "# Definição do problema"
      ]
    },
    {
      "cell_type": "markdown",
      "metadata": {
        "id": "iCj2rwwHBB1I"
      },
      "source": [
        "- Base de dados:\n",
        "  - Input (X): Temperatura\n",
        "  - Output (Y): Lucro diário em dólares "
      ]
    },
    {
      "cell_type": "markdown",
      "metadata": {
        "id": "zKmFmyaGunc7"
      },
      "source": [
        "# Etapa 1: Importação das bibliotecas"
      ]
    },
    {
      "cell_type": "code",
      "metadata": {
        "id": "Y_LnJrYYAr7b",
        "colab": {
          "base_uri": "https://localhost:8080/"
        },
        "outputId": "d61f270b-ae7c-4ca0-d0aa-fc59f6818562"
      },
      "source": [
        "%tensorflow_version 2.x\n",
        "import tensorflow as tf\n",
        "import pandas as pd\n",
        "import numpy as np\n",
        "import seaborn as sns\n",
        "import matplotlib.pyplot as plt\n",
        "tf.__version__"
      ],
      "execution_count": null,
      "outputs": [
        {
          "output_type": "execute_result",
          "data": {
            "application/vnd.google.colaboratory.intrinsic+json": {
              "type": "string"
            },
            "text/plain": [
              "'2.4.1'"
            ]
          },
          "metadata": {
            "tags": []
          },
          "execution_count": 1
        }
      ]
    },
    {
      "cell_type": "markdown",
      "metadata": {
        "id": "uAE6Icc0uylP"
      },
      "source": [
        "# Etapa 2: Importação da base de dados"
      ]
    },
    {
      "cell_type": "code",
      "metadata": {
        "id": "mLjnytV6eMA0"
      },
      "source": [
        "# Leitura do arquivo csv\n",
        "df = pd.read_csv('https://raw.githubusercontent.com/EduardoMoraesRitter/deep-learning-tensorflow-python/main/SalesData.csv')\n",
        "#remover o indece\n",
        "df.reset_index(drop=True, inplace=True)"
      ],
      "execution_count": null,
      "outputs": []
    },
    {
      "cell_type": "code",
      "metadata": {
        "id": "q4_wPDKCu5Uc",
        "colab": {
          "base_uri": "https://localhost:8080/"
        },
        "outputId": "ce5bdf0d-42d1-409c-b406-480378d90d20"
      },
      "source": [
        "# Visualização de todos os registros\n",
        "df"
      ],
      "execution_count": null,
      "outputs": [
        {
          "output_type": "execute_result",
          "data": {
            "text/html": [
              "<div>\n",
              "<style scoped>\n",
              "    .dataframe tbody tr th:only-of-type {\n",
              "        vertical-align: middle;\n",
              "    }\n",
              "\n",
              "    .dataframe tbody tr th {\n",
              "        vertical-align: top;\n",
              "    }\n",
              "\n",
              "    .dataframe thead th {\n",
              "        text-align: right;\n",
              "    }\n",
              "</style>\n",
              "<table border=\"1\" class=\"dataframe\">\n",
              "  <thead>\n",
              "    <tr style=\"text-align: right;\">\n",
              "      <th></th>\n",
              "      <th>Temperature</th>\n",
              "      <th>Revenue</th>\n",
              "    </tr>\n",
              "  </thead>\n",
              "  <tbody>\n",
              "    <tr>\n",
              "      <th>0</th>\n",
              "      <td>24.566884</td>\n",
              "      <td>534.799028</td>\n",
              "    </tr>\n",
              "    <tr>\n",
              "      <th>1</th>\n",
              "      <td>26.005191</td>\n",
              "      <td>625.190122</td>\n",
              "    </tr>\n",
              "    <tr>\n",
              "      <th>2</th>\n",
              "      <td>27.790554</td>\n",
              "      <td>660.632289</td>\n",
              "    </tr>\n",
              "    <tr>\n",
              "      <th>3</th>\n",
              "      <td>20.595335</td>\n",
              "      <td>487.706960</td>\n",
              "    </tr>\n",
              "    <tr>\n",
              "      <th>4</th>\n",
              "      <td>11.503498</td>\n",
              "      <td>316.240194</td>\n",
              "    </tr>\n",
              "    <tr>\n",
              "      <th>...</th>\n",
              "      <td>...</td>\n",
              "      <td>...</td>\n",
              "    </tr>\n",
              "    <tr>\n",
              "      <th>495</th>\n",
              "      <td>22.274899</td>\n",
              "      <td>524.746364</td>\n",
              "    </tr>\n",
              "    <tr>\n",
              "      <th>496</th>\n",
              "      <td>32.893092</td>\n",
              "      <td>755.818399</td>\n",
              "    </tr>\n",
              "    <tr>\n",
              "      <th>497</th>\n",
              "      <td>12.588157</td>\n",
              "      <td>306.090719</td>\n",
              "    </tr>\n",
              "    <tr>\n",
              "      <th>498</th>\n",
              "      <td>22.362402</td>\n",
              "      <td>566.217304</td>\n",
              "    </tr>\n",
              "    <tr>\n",
              "      <th>499</th>\n",
              "      <td>28.957736</td>\n",
              "      <td>655.660388</td>\n",
              "    </tr>\n",
              "  </tbody>\n",
              "</table>\n",
              "<p>500 rows × 2 columns</p>\n",
              "</div>"
            ],
            "text/plain": [
              "     Temperature     Revenue\n",
              "0      24.566884  534.799028\n",
              "1      26.005191  625.190122\n",
              "2      27.790554  660.632289\n",
              "3      20.595335  487.706960\n",
              "4      11.503498  316.240194\n",
              "..           ...         ...\n",
              "495    22.274899  524.746364\n",
              "496    32.893092  755.818399\n",
              "497    12.588157  306.090719\n",
              "498    22.362402  566.217304\n",
              "499    28.957736  655.660388\n",
              "\n",
              "[500 rows x 2 columns]"
            ]
          },
          "metadata": {
            "tags": []
          },
          "execution_count": 3
        }
      ]
    },
    {
      "cell_type": "code",
      "metadata": {
        "id": "E7puy9-xxS4A",
        "colab": {
          "base_uri": "https://localhost:8080/"
        },
        "outputId": "c1e537a8-b925-454b-f67b-1babb5c85c09"
      },
      "source": [
        "# Visualização dos 5 primeiros registros\n",
        "df.head()"
      ],
      "execution_count": null,
      "outputs": [
        {
          "output_type": "execute_result",
          "data": {
            "text/html": [
              "<div>\n",
              "<style scoped>\n",
              "    .dataframe tbody tr th:only-of-type {\n",
              "        vertical-align: middle;\n",
              "    }\n",
              "\n",
              "    .dataframe tbody tr th {\n",
              "        vertical-align: top;\n",
              "    }\n",
              "\n",
              "    .dataframe thead th {\n",
              "        text-align: right;\n",
              "    }\n",
              "</style>\n",
              "<table border=\"1\" class=\"dataframe\">\n",
              "  <thead>\n",
              "    <tr style=\"text-align: right;\">\n",
              "      <th></th>\n",
              "      <th>Temperature</th>\n",
              "      <th>Revenue</th>\n",
              "    </tr>\n",
              "  </thead>\n",
              "  <tbody>\n",
              "    <tr>\n",
              "      <th>0</th>\n",
              "      <td>24.566884</td>\n",
              "      <td>534.799028</td>\n",
              "    </tr>\n",
              "    <tr>\n",
              "      <th>1</th>\n",
              "      <td>26.005191</td>\n",
              "      <td>625.190122</td>\n",
              "    </tr>\n",
              "    <tr>\n",
              "      <th>2</th>\n",
              "      <td>27.790554</td>\n",
              "      <td>660.632289</td>\n",
              "    </tr>\n",
              "    <tr>\n",
              "      <th>3</th>\n",
              "      <td>20.595335</td>\n",
              "      <td>487.706960</td>\n",
              "    </tr>\n",
              "    <tr>\n",
              "      <th>4</th>\n",
              "      <td>11.503498</td>\n",
              "      <td>316.240194</td>\n",
              "    </tr>\n",
              "  </tbody>\n",
              "</table>\n",
              "</div>"
            ],
            "text/plain": [
              "   Temperature     Revenue\n",
              "0    24.566884  534.799028\n",
              "1    26.005191  625.190122\n",
              "2    27.790554  660.632289\n",
              "3    20.595335  487.706960\n",
              "4    11.503498  316.240194"
            ]
          },
          "metadata": {
            "tags": []
          },
          "execution_count": 4
        }
      ]
    },
    {
      "cell_type": "code",
      "metadata": {
        "id": "RUt2ON_UxyYk",
        "colab": {
          "base_uri": "https://localhost:8080/"
        },
        "outputId": "78f3e208-6612-46fa-9111-3c42d83a3cb1"
      },
      "source": [
        "# Visualização dos 10 últimos registros\n",
        "df.tail(10)"
      ],
      "execution_count": null,
      "outputs": [
        {
          "output_type": "execute_result",
          "data": {
            "text/html": [
              "<div>\n",
              "<style scoped>\n",
              "    .dataframe tbody tr th:only-of-type {\n",
              "        vertical-align: middle;\n",
              "    }\n",
              "\n",
              "    .dataframe tbody tr th {\n",
              "        vertical-align: top;\n",
              "    }\n",
              "\n",
              "    .dataframe thead th {\n",
              "        text-align: right;\n",
              "    }\n",
              "</style>\n",
              "<table border=\"1\" class=\"dataframe\">\n",
              "  <thead>\n",
              "    <tr style=\"text-align: right;\">\n",
              "      <th></th>\n",
              "      <th>Temperature</th>\n",
              "      <th>Revenue</th>\n",
              "    </tr>\n",
              "  </thead>\n",
              "  <tbody>\n",
              "    <tr>\n",
              "      <th>490</th>\n",
              "      <td>23.824922</td>\n",
              "      <td>584.399945</td>\n",
              "    </tr>\n",
              "    <tr>\n",
              "      <th>491</th>\n",
              "      <td>34.472169</td>\n",
              "      <td>809.352520</td>\n",
              "    </tr>\n",
              "    <tr>\n",
              "      <th>492</th>\n",
              "      <td>23.056214</td>\n",
              "      <td>552.819351</td>\n",
              "    </tr>\n",
              "    <tr>\n",
              "      <th>493</th>\n",
              "      <td>14.931506</td>\n",
              "      <td>377.430928</td>\n",
              "    </tr>\n",
              "    <tr>\n",
              "      <th>494</th>\n",
              "      <td>25.112066</td>\n",
              "      <td>571.434257</td>\n",
              "    </tr>\n",
              "    <tr>\n",
              "      <th>495</th>\n",
              "      <td>22.274899</td>\n",
              "      <td>524.746364</td>\n",
              "    </tr>\n",
              "    <tr>\n",
              "      <th>496</th>\n",
              "      <td>32.893092</td>\n",
              "      <td>755.818399</td>\n",
              "    </tr>\n",
              "    <tr>\n",
              "      <th>497</th>\n",
              "      <td>12.588157</td>\n",
              "      <td>306.090719</td>\n",
              "    </tr>\n",
              "    <tr>\n",
              "      <th>498</th>\n",
              "      <td>22.362402</td>\n",
              "      <td>566.217304</td>\n",
              "    </tr>\n",
              "    <tr>\n",
              "      <th>499</th>\n",
              "      <td>28.957736</td>\n",
              "      <td>655.660388</td>\n",
              "    </tr>\n",
              "  </tbody>\n",
              "</table>\n",
              "</div>"
            ],
            "text/plain": [
              "     Temperature     Revenue\n",
              "490    23.824922  584.399945\n",
              "491    34.472169  809.352520\n",
              "492    23.056214  552.819351\n",
              "493    14.931506  377.430928\n",
              "494    25.112066  571.434257\n",
              "495    22.274899  524.746364\n",
              "496    32.893092  755.818399\n",
              "497    12.588157  306.090719\n",
              "498    22.362402  566.217304\n",
              "499    28.957736  655.660388"
            ]
          },
          "metadata": {
            "tags": []
          },
          "execution_count": 5
        }
      ]
    },
    {
      "cell_type": "code",
      "metadata": {
        "id": "hMq3-KWOx0e1",
        "colab": {
          "base_uri": "https://localhost:8080/"
        },
        "outputId": "79afc6b1-5c63-4304-90ce-7530baf35a58"
      },
      "source": [
        "# Visualização de informações da base de dados\n",
        "df.info()"
      ],
      "execution_count": null,
      "outputs": [
        {
          "output_type": "stream",
          "text": [
            "<class 'pandas.core.frame.DataFrame'>\n",
            "RangeIndex: 500 entries, 0 to 499\n",
            "Data columns (total 2 columns):\n",
            " #   Column       Non-Null Count  Dtype  \n",
            "---  ------       --------------  -----  \n",
            " 0   Temperature  500 non-null    float64\n",
            " 1   Revenue      500 non-null    float64\n",
            "dtypes: float64(2)\n",
            "memory usage: 7.9 KB\n"
          ],
          "name": "stdout"
        }
      ]
    },
    {
      "cell_type": "code",
      "metadata": {
        "id": "s0E9xPLdx2Ok",
        "colab": {
          "base_uri": "https://localhost:8080/"
        },
        "outputId": "7c3cfa1d-832a-4edd-8a5f-a87426fe4812"
      },
      "source": [
        "# Descrição da base de dados\n",
        "df.describe()"
      ],
      "execution_count": null,
      "outputs": [
        {
          "output_type": "execute_result",
          "data": {
            "text/html": [
              "<div>\n",
              "<style scoped>\n",
              "    .dataframe tbody tr th:only-of-type {\n",
              "        vertical-align: middle;\n",
              "    }\n",
              "\n",
              "    .dataframe tbody tr th {\n",
              "        vertical-align: top;\n",
              "    }\n",
              "\n",
              "    .dataframe thead th {\n",
              "        text-align: right;\n",
              "    }\n",
              "</style>\n",
              "<table border=\"1\" class=\"dataframe\">\n",
              "  <thead>\n",
              "    <tr style=\"text-align: right;\">\n",
              "      <th></th>\n",
              "      <th>Temperature</th>\n",
              "      <th>Revenue</th>\n",
              "    </tr>\n",
              "  </thead>\n",
              "  <tbody>\n",
              "    <tr>\n",
              "      <th>count</th>\n",
              "      <td>500.000000</td>\n",
              "      <td>500.000000</td>\n",
              "    </tr>\n",
              "    <tr>\n",
              "      <th>mean</th>\n",
              "      <td>22.232225</td>\n",
              "      <td>521.570777</td>\n",
              "    </tr>\n",
              "    <tr>\n",
              "      <th>std</th>\n",
              "      <td>8.096388</td>\n",
              "      <td>175.404751</td>\n",
              "    </tr>\n",
              "    <tr>\n",
              "      <th>min</th>\n",
              "      <td>0.000000</td>\n",
              "      <td>10.000000</td>\n",
              "    </tr>\n",
              "    <tr>\n",
              "      <th>25%</th>\n",
              "      <td>17.122258</td>\n",
              "      <td>405.558681</td>\n",
              "    </tr>\n",
              "    <tr>\n",
              "      <th>50%</th>\n",
              "      <td>22.392791</td>\n",
              "      <td>529.368565</td>\n",
              "    </tr>\n",
              "    <tr>\n",
              "      <th>75%</th>\n",
              "      <td>27.740674</td>\n",
              "      <td>642.257922</td>\n",
              "    </tr>\n",
              "    <tr>\n",
              "      <th>max</th>\n",
              "      <td>45.000000</td>\n",
              "      <td>1000.000000</td>\n",
              "    </tr>\n",
              "  </tbody>\n",
              "</table>\n",
              "</div>"
            ],
            "text/plain": [
              "       Temperature      Revenue\n",
              "count   500.000000   500.000000\n",
              "mean     22.232225   521.570777\n",
              "std       8.096388   175.404751\n",
              "min       0.000000    10.000000\n",
              "25%      17.122258   405.558681\n",
              "50%      22.392791   529.368565\n",
              "75%      27.740674   642.257922\n",
              "max      45.000000  1000.000000"
            ]
          },
          "metadata": {
            "tags": []
          },
          "execution_count": 7
        }
      ]
    },
    {
      "cell_type": "markdown",
      "metadata": {
        "id": "LlszUhNNyrl_"
      },
      "source": [
        "# Etapa 3: Visualização da base de dados"
      ]
    },
    {
      "cell_type": "code",
      "metadata": {
        "id": "TYcWopZVyvAs",
        "colab": {
          "base_uri": "https://localhost:8080/"
        },
        "outputId": "9cf484da-d751-4046-813f-b41a113f7b57"
      },
      "source": [
        "# Scatter plot do Seborn\n",
        "sns.scatterplot(df['Temperature'], df['Revenue']);"
      ],
      "execution_count": null,
      "outputs": [
        {
          "output_type": "stream",
          "text": [
            "/usr/local/lib/python3.7/dist-packages/seaborn/_decorators.py:43: FutureWarning: Pass the following variables as keyword args: x, y. From version 0.12, the only valid positional argument will be `data`, and passing other arguments without an explicit keyword will result in an error or misinterpretation.\n",
            "  FutureWarning\n"
          ],
          "name": "stderr"
        },
        {
          "output_type": "display_data",
          "data": {
            "image/png": "[encoded data removed]",
            "text/plain": [
              "<Figure size 432x288 with 1 Axes>"
            ]
          },
          "metadata": {
            "tags": [],
            "needs_background": "light"
          }
        }
      ]
    },
    {
      "cell_type": "markdown",
      "metadata": {
        "id": "Y0GmpAjG3GiH"
      },
      "source": [
        "# Etapa 4: Criação das variáveis da base de dados"
      ]
    },
    {
      "cell_type": "code",
      "metadata": {
        "id": "0-maV8hb9rYM"
      },
      "source": [
        "# Criação das variáveis X_train e y_train\n",
        "X_train = df['Temperature']\n",
        "Y_train = df['Revenue']"
      ],
      "execution_count": null,
      "outputs": []
    },
    {
      "cell_type": "code",
      "metadata": {
        "id": "DqIp8uvJ3cGi",
        "colab": {
          "base_uri": "https://localhost:8080/"
        },
        "outputId": "cbeb3bfa-0eeb-4f1a-e30a-8633b5a7144a"
      },
      "source": [
        "# Formato da variável X_train\n",
        "X_train.shape"
      ],
      "execution_count": null,
      "outputs": [
        {
          "output_type": "execute_result",
          "data": {
            "text/plain": [
              "(500,)"
            ]
          },
          "metadata": {
            "tags": []
          },
          "execution_count": 10
        }
      ]
    },
    {
      "cell_type": "code",
      "metadata": {
        "id": "d4wfApza3cEc",
        "colab": {
          "base_uri": "https://localhost:8080/"
        },
        "outputId": "b46383d7-42bd-4a06-9ae1-f7cae6f25a5e"
      },
      "source": [
        "# Formato da variável y_train\n",
        "Y_train.shape"
      ],
      "execution_count": null,
      "outputs": [
        {
          "output_type": "execute_result",
          "data": {
            "text/plain": [
              "(500,)"
            ]
          },
          "metadata": {
            "tags": []
          },
          "execution_count": 11
        }
      ]
    },
    {
      "cell_type": "markdown",
      "metadata": {
        "id": "53qDZFRn3-S1"
      },
      "source": [
        "# Etapa 5: Criação e construção do modelo"
      ]
    },
    {
      "cell_type": "code",
      "metadata": {
        "id": "Yl6fmPJj3cCX"
      },
      "source": [
        "# Construção do modelo sequencial\n",
        "model = tf.keras.Sequential()\n",
        "model.add(tf.keras.layers.Dense(units=10, input_shape=[1]))\n",
        "\n",
        "#como o loss esta grande 646.5796,  entao precisa de outra camada densa\n",
        "model.add(tf.keras.layers.Dense(units=1))"
      ],
      "execution_count": null,
      "outputs": []
    },
    {
      "cell_type": "code",
      "metadata": {
        "id": "GUd71odB4v-i",
        "colab": {
          "base_uri": "https://localhost:8080/"
        },
        "outputId": "87c70035-f02b-4255-ab2a-fc25e63d87c3"
      },
      "source": [
        "# Sumário do modelo\n",
        "model.summary()"
      ],
      "execution_count": null,
      "outputs": [
        {
          "output_type": "stream",
          "text": [
            "Model: \"sequential_3\"\n",
            "_________________________________________________________________\n",
            "Layer (type)                 Output Shape              Param #   \n",
            "=================================================================\n",
            "dense_5 (Dense)              (None, 10)                20        \n",
            "_________________________________________________________________\n",
            "dense_6 (Dense)              (None, 1)                 11        \n",
            "=================================================================\n",
            "Total params: 31\n",
            "Trainable params: 31\n",
            "Non-trainable params: 0\n",
            "_________________________________________________________________\n"
          ],
          "name": "stdout"
        }
      ]
    },
    {
      "cell_type": "code",
      "metadata": {
        "id": "BYmvNpNw5Act"
      },
      "source": [
        "# Compilar o modelo\n",
        "model.compile(optimizer=tf.keras.optimizers.Adam(0.1), loss='mean_squared_error')"
      ],
      "execution_count": null,
      "outputs": []
    },
    {
      "cell_type": "code",
      "metadata": {
        "id": "tpia0VBS5Ljw",
        "colab": {
          "base_uri": "https://localhost:8080/"
        },
        "outputId": "6ff6f83e-2379-429b-f0c2-9e8d1b2999dd"
      },
      "source": [
        "# Treinamento\n",
        "epochs_hist = model.fit(X_train, Y_train, epochs=100)"
      ],
      "execution_count": null,
      "outputs": [
        {
          "output_type": "stream",
          "text": [
            "Epoch 1/100\n",
            "16/16 [==============================] - 0s 2ms/step - loss: 223456.3235\n",
            "Epoch 2/100\n",
            "16/16 [==============================] - 0s 2ms/step - loss: 17182.1138\n",
            "Epoch 3/100\n",
            "16/16 [==============================] - 0s 2ms/step - loss: 5836.8637\n",
            "Epoch 4/100\n",
            "16/16 [==============================] - 0s 2ms/step - loss: 1802.8257\n",
            "Epoch 5/100\n",
            "16/16 [==============================] - 0s 2ms/step - loss: 899.4964\n",
            "Epoch 6/100\n",
            "16/16 [==============================] - 0s 2ms/step - loss: 720.2412\n",
            "Epoch 7/100\n",
            "16/16 [==============================] - 0s 2ms/step - loss: 766.8171\n",
            "Epoch 8/100\n",
            "16/16 [==============================] - 0s 2ms/step - loss: 668.7715\n",
            "Epoch 9/100\n",
            "16/16 [==============================] - 0s 2ms/step - loss: 676.8948\n",
            "Epoch 10/100\n",
            "16/16 [==============================] - 0s 1ms/step - loss: 736.5132\n",
            "Epoch 11/100\n",
            "16/16 [==============================] - 0s 2ms/step - loss: 654.7561\n",
            "Epoch 12/100\n",
            "16/16 [==============================] - 0s 2ms/step - loss: 649.7973\n",
            "Epoch 13/100\n",
            "16/16 [==============================] - 0s 2ms/step - loss: 678.2550\n",
            "Epoch 14/100\n",
            "16/16 [==============================] - 0s 2ms/step - loss: 608.1943\n",
            "Epoch 15/100\n",
            "16/16 [==============================] - 0s 2ms/step - loss: 701.5858\n",
            "Epoch 16/100\n",
            "16/16 [==============================] - 0s 2ms/step - loss: 636.3297\n",
            "Epoch 17/100\n",
            "16/16 [==============================] - 0s 1ms/step - loss: 684.1128\n",
            "Epoch 18/100\n",
            "16/16 [==============================] - 0s 2ms/step - loss: 662.5739\n",
            "Epoch 19/100\n",
            "16/16 [==============================] - 0s 2ms/step - loss: 709.1873\n",
            "Epoch 20/100\n",
            "16/16 [==============================] - 0s 2ms/step - loss: 670.0058\n",
            "Epoch 21/100\n",
            "16/16 [==============================] - 0s 2ms/step - loss: 583.1770\n",
            "Epoch 22/100\n",
            "16/16 [==============================] - 0s 2ms/step - loss: 663.3683\n",
            "Epoch 23/100\n",
            "16/16 [==============================] - 0s 2ms/step - loss: 629.8285\n",
            "Epoch 24/100\n",
            "16/16 [==============================] - 0s 2ms/step - loss: 571.8903\n",
            "Epoch 25/100\n",
            "16/16 [==============================] - 0s 2ms/step - loss: 683.8496\n",
            "Epoch 26/100\n",
            "16/16 [==============================] - 0s 2ms/step - loss: 712.3105\n",
            "Epoch 27/100\n",
            "16/16 [==============================] - 0s 2ms/step - loss: 633.2463\n",
            "Epoch 28/100\n",
            "16/16 [==============================] - 0s 2ms/step - loss: 666.9855\n",
            "Epoch 29/100\n",
            "16/16 [==============================] - 0s 2ms/step - loss: 620.8920\n",
            "Epoch 30/100\n",
            "16/16 [==============================] - 0s 2ms/step - loss: 551.1577\n",
            "Epoch 31/100\n",
            "16/16 [==============================] - 0s 2ms/step - loss: 601.0898\n",
            "Epoch 32/100\n",
            "16/16 [==============================] - 0s 2ms/step - loss: 644.7849\n",
            "Epoch 33/100\n",
            "16/16 [==============================] - 0s 2ms/step - loss: 708.8430\n",
            "Epoch 34/100\n",
            "16/16 [==============================] - 0s 2ms/step - loss: 642.6999\n",
            "Epoch 35/100\n",
            "16/16 [==============================] - 0s 2ms/step - loss: 636.9410\n",
            "Epoch 36/100\n",
            "16/16 [==============================] - 0s 2ms/step - loss: 663.1899\n",
            "Epoch 37/100\n",
            "16/16 [==============================] - 0s 2ms/step - loss: 665.0410\n",
            "Epoch 38/100\n",
            "16/16 [==============================] - 0s 2ms/step - loss: 612.6847\n",
            "Epoch 39/100\n",
            "16/16 [==============================] - 0s 2ms/step - loss: 675.0131\n",
            "Epoch 40/100\n",
            "16/16 [==============================] - 0s 2ms/step - loss: 661.3948\n",
            "Epoch 41/100\n",
            "16/16 [==============================] - 0s 2ms/step - loss: 649.1921\n",
            "Epoch 42/100\n",
            "16/16 [==============================] - 0s 2ms/step - loss: 647.5995\n",
            "Epoch 43/100\n",
            "16/16 [==============================] - 0s 2ms/step - loss: 579.0406\n",
            "Epoch 44/100\n",
            "16/16 [==============================] - 0s 2ms/step - loss: 654.7148\n",
            "Epoch 45/100\n",
            "16/16 [==============================] - 0s 2ms/step - loss: 660.9050\n",
            "Epoch 46/100\n",
            "16/16 [==============================] - 0s 2ms/step - loss: 700.7581\n",
            "Epoch 47/100\n",
            "16/16 [==============================] - 0s 2ms/step - loss: 693.8624\n",
            "Epoch 48/100\n",
            "16/16 [==============================] - 0s 2ms/step - loss: 743.4804\n",
            "Epoch 49/100\n",
            "16/16 [==============================] - 0s 2ms/step - loss: 638.1771\n",
            "Epoch 50/100\n",
            "16/16 [==============================] - 0s 2ms/step - loss: 664.9130\n",
            "Epoch 51/100\n",
            "16/16 [==============================] - 0s 2ms/step - loss: 646.4878\n",
            "Epoch 52/100\n",
            "16/16 [==============================] - 0s 2ms/step - loss: 632.8391\n",
            "Epoch 53/100\n",
            "16/16 [==============================] - 0s 2ms/step - loss: 639.9319\n",
            "Epoch 54/100\n",
            "16/16 [==============================] - 0s 2ms/step - loss: 624.3189\n",
            "Epoch 55/100\n",
            "16/16 [==============================] - 0s 2ms/step - loss: 671.6951\n",
            "Epoch 56/100\n",
            "16/16 [==============================] - 0s 2ms/step - loss: 697.1952\n",
            "Epoch 57/100\n",
            "16/16 [==============================] - 0s 2ms/step - loss: 656.0428\n",
            "Epoch 58/100\n",
            "16/16 [==============================] - 0s 2ms/step - loss: 696.1843\n",
            "Epoch 59/100\n",
            "16/16 [==============================] - 0s 2ms/step - loss: 703.0148\n",
            "Epoch 60/100\n",
            "16/16 [==============================] - 0s 2ms/step - loss: 638.5512\n",
            "Epoch 61/100\n",
            "16/16 [==============================] - 0s 2ms/step - loss: 673.7949\n",
            "Epoch 62/100\n",
            "16/16 [==============================] - 0s 2ms/step - loss: 635.7473\n",
            "Epoch 63/100\n",
            "16/16 [==============================] - 0s 2ms/step - loss: 594.8629\n",
            "Epoch 64/100\n",
            "16/16 [==============================] - 0s 2ms/step - loss: 657.3232\n",
            "Epoch 65/100\n",
            "16/16 [==============================] - 0s 2ms/step - loss: 582.8844\n",
            "Epoch 66/100\n",
            "16/16 [==============================] - 0s 2ms/step - loss: 661.2694\n",
            "Epoch 67/100\n",
            "16/16 [==============================] - 0s 2ms/step - loss: 628.8619\n",
            "Epoch 68/100\n",
            "16/16 [==============================] - 0s 2ms/step - loss: 706.8971\n",
            "Epoch 69/100\n",
            "16/16 [==============================] - 0s 2ms/step - loss: 620.3108\n",
            "Epoch 70/100\n",
            "16/16 [==============================] - 0s 2ms/step - loss: 629.0040\n",
            "Epoch 71/100\n",
            "16/16 [==============================] - 0s 2ms/step - loss: 633.2596\n",
            "Epoch 72/100\n",
            "16/16 [==============================] - 0s 2ms/step - loss: 653.0928\n",
            "Epoch 73/100\n",
            "16/16 [==============================] - 0s 2ms/step - loss: 641.2467\n",
            "Epoch 74/100\n",
            "16/16 [==============================] - 0s 2ms/step - loss: 629.1783\n",
            "Epoch 75/100\n",
            "16/16 [==============================] - 0s 1ms/step - loss: 646.9790\n",
            "Epoch 76/100\n",
            "16/16 [==============================] - 0s 2ms/step - loss: 618.8246\n",
            "Epoch 77/100\n",
            "16/16 [==============================] - 0s 1ms/step - loss: 557.1970\n",
            "Epoch 78/100\n",
            "16/16 [==============================] - 0s 1ms/step - loss: 634.4584\n",
            "Epoch 79/100\n",
            "16/16 [==============================] - 0s 1ms/step - loss: 647.1209\n",
            "Epoch 80/100\n",
            "16/16 [==============================] - 0s 2ms/step - loss: 733.5891\n",
            "Epoch 81/100\n",
            "16/16 [==============================] - 0s 2ms/step - loss: 677.7932\n",
            "Epoch 82/100\n",
            "16/16 [==============================] - 0s 2ms/step - loss: 709.9917\n",
            "Epoch 83/100\n",
            "16/16 [==============================] - 0s 2ms/step - loss: 683.1238\n",
            "Epoch 84/100\n",
            "16/16 [==============================] - 0s 2ms/step - loss: 722.5527\n",
            "Epoch 85/100\n",
            "16/16 [==============================] - 0s 2ms/step - loss: 652.3627\n",
            "Epoch 86/100\n",
            "16/16 [==============================] - 0s 2ms/step - loss: 592.8583\n",
            "Epoch 87/100\n",
            "16/16 [==============================] - 0s 2ms/step - loss: 579.4129\n",
            "Epoch 88/100\n",
            "16/16 [==============================] - 0s 2ms/step - loss: 656.5273\n",
            "Epoch 89/100\n",
            "16/16 [==============================] - 0s 2ms/step - loss: 679.8376\n",
            "Epoch 90/100\n",
            "16/16 [==============================] - 0s 2ms/step - loss: 603.5801\n",
            "Epoch 91/100\n",
            "16/16 [==============================] - 0s 2ms/step - loss: 647.4356\n",
            "Epoch 92/100\n",
            "16/16 [==============================] - 0s 2ms/step - loss: 744.1244\n",
            "Epoch 93/100\n",
            "16/16 [==============================] - 0s 2ms/step - loss: 606.6849\n",
            "Epoch 94/100\n",
            "16/16 [==============================] - 0s 2ms/step - loss: 655.9605\n",
            "Epoch 95/100\n",
            "16/16 [==============================] - 0s 2ms/step - loss: 622.5669\n",
            "Epoch 96/100\n",
            "16/16 [==============================] - 0s 2ms/step - loss: 725.6204\n",
            "Epoch 97/100\n",
            "16/16 [==============================] - 0s 2ms/step - loss: 731.0140\n",
            "Epoch 98/100\n",
            "16/16 [==============================] - 0s 2ms/step - loss: 685.1473\n",
            "Epoch 99/100\n",
            "16/16 [==============================] - 0s 2ms/step - loss: 570.0376\n",
            "Epoch 100/100\n",
            "16/16 [==============================] - 0s 2ms/step - loss: 675.0683\n"
          ],
          "name": "stdout"
        }
      ]
    },
    {
      "cell_type": "markdown",
      "metadata": {
        "id": "-wRQqOeB5Zh5"
      },
      "source": [
        "# Etapa 6: Avaliação do modelo "
      ]
    },
    {
      "cell_type": "code",
      "metadata": {
        "id": "dfUb63035TJL",
        "colab": {
          "base_uri": "https://localhost:8080/"
        },
        "outputId": "f38b110b-7ba4-4da6-b394-a6a3f4c9cecf"
      },
      "source": [
        "# Visualização do dicionário com os resultados\n",
        "epochs_hist.history.keys()"
      ],
      "execution_count": null,
      "outputs": [
        {
          "output_type": "execute_result",
          "data": {
            "text/plain": [
              "dict_keys(['loss'])"
            ]
          },
          "metadata": {
            "tags": []
          },
          "execution_count": 39
        }
      ]
    },
    {
      "cell_type": "code",
      "metadata": {
        "id": "eXiDop_l5erJ",
        "colab": {
          "base_uri": "https://localhost:8080/",
          "height": 282
        },
        "outputId": "d0f25d30-0a29-4a1d-bfc7-b052924539c7"
      },
      "source": [
        "# Gráfico com os resultados da loss function\n",
        "plt.plot(epochs_hist.history['loss'])"
      ],
      "execution_count": null,
      "outputs": [
        {
          "output_type": "execute_result",
          "data": {
            "text/plain": [
              "[<matplotlib.lines.Line2D at 0x7efbbc94c690>]"
            ]
          },
          "metadata": {
            "tags": []
          },
          "execution_count": 40
        },
        {
          "output_type": "display_data",
          "data": {
            "image/png": "[encoded data removed]",
            "text/plain": [
              "<Figure size 432x288 with 1 Axes>"
            ]
          },
          "metadata": {
            "tags": [],
            "needs_background": "light"
          }
        }
      ]
    },
    {
      "cell_type": "code",
      "metadata": {
        "id": "yFYpuUJWBn6L",
        "colab": {
          "base_uri": "https://localhost:8080/"
        },
        "outputId": "93a47ce5-01dd-4f2e-d25f-a064f7255d61"
      },
      "source": [
        "# Visualização dos pesos\n",
        "model.get_weights()"
      ],
      "execution_count": null,
      "outputs": [
        {
          "output_type": "execute_result",
          "data": {
            "text/plain": [
              "[array([[ 0.12653412,  2.1508667 , -1.6944203 ,  0.33822787,  1.0408808 ,\n",
              "          1.4536147 ,  1.6428697 , -0.6513351 , -1.4629928 ,  2.2602718 ]],\n",
              "       dtype=float32),\n",
              " array([ 1.22913   ,  3.640496  , -3.4068642 ,  0.06182037,  2.455315  ,\n",
              "         3.3481948 ,  3.3911407 , -2.0042012 , -3.3723521 ,  3.5162868 ],\n",
              "       dtype=float32),\n",
              " array([[ 0.17531192],\n",
              "        [ 1.7774435 ],\n",
              "        [-2.0062964 ],\n",
              "        [-0.13882378],\n",
              "        [ 1.1520877 ],\n",
              "        [ 1.6287688 ],\n",
              "        [ 1.9508177 ],\n",
              "        [-0.5522298 ],\n",
              "        [-1.5862515 ],\n",
              "        [ 2.3326042 ]], dtype=float32),\n",
              " array([2.9493456], dtype=float32)]"
            ]
          },
          "metadata": {
            "tags": []
          },
          "execution_count": 41
        }
      ]
    },
    {
      "cell_type": "code",
      "metadata": {
        "id": "isfjfT735fjD",
        "colab": {
          "base_uri": "https://localhost:8080/"
        },
        "outputId": "df7abd89-66b5-4643-9c20-208ef9b538df"
      },
      "source": [
        "# Previsões com o modelo treinado, com a temperatura de 5 graus\n",
        "model.predict([5])"
      ],
      "execution_count": null,
      "outputs": [
        {
          "output_type": "execute_result",
          "data": {
            "text/plain": [
              "array([[155.6291]], dtype=float32)"
            ]
          },
          "metadata": {
            "tags": []
          },
          "execution_count": 42
        }
      ]
    },
    {
      "cell_type": "code",
      "metadata": {
        "id": "CnbDTixOaB-V",
        "colab": {
          "base_uri": "https://localhost:8080/",
          "height": 282
        },
        "outputId": "3d98926e-b99b-4fba-accd-62a55a07ef0a"
      },
      "source": [
        "# Gráfico com a reta da regressão linear\n",
        "plt.scatter(X_train, Y_train, color='gray')\n",
        "plt.plot(X_train, model.predict(X_train), color='red') "
      ],
      "execution_count": null,
      "outputs": [
        {
          "output_type": "execute_result",
          "data": {
            "text/plain": [
              "[<matplotlib.lines.Line2D at 0x7efb5c524490>]"
            ]
          },
          "metadata": {
            "tags": []
          },
          "execution_count": 43
        },
        {
          "output_type": "display_data",
          "data": {
            "image/png": "[encoded data removed]",
            "text/plain": [
              "<Figure size 432x288 with 1 Axes>"
            ]
          },
          "metadata": {
            "tags": [],
            "needs_background": "light"
          }
        }
      ]
    },
    {
      "cell_type": "markdown",
      "metadata": {
        "id": "_dXoZAtVcbfA"
      },
      "source": [
        "# Etapa 7: Confirmar os resultados usando sklearn"
      ]
    },
    {
      "cell_type": "code",
      "metadata": {
        "id": "ybYof7hSdM5I",
        "colab": {
          "base_uri": "https://localhost:8080/"
        },
        "outputId": "728a8f14-ea13-4075-9c70-a2bebac46b5a"
      },
      "source": [
        "# Usar o sklearn para obter os mesmos resultados\n",
        "X_train.shape"
      ],
      "execution_count": null,
      "outputs": [
        {
          "output_type": "execute_result",
          "data": {
            "text/plain": [
              "(500,)"
            ]
          },
          "metadata": {
            "tags": []
          },
          "execution_count": 39
        }
      ]
    },
    {
      "cell_type": "code",
      "metadata": {
        "id": "6DjF35oZ5h6-"
      },
      "source": [
        "#transformar para Matrix\n",
        "X_train = X_train.values.reshape(-1,1)"
      ],
      "execution_count": null,
      "outputs": []
    },
    {
      "cell_type": "code",
      "metadata": {
        "colab": {
          "base_uri": "https://localhost:8080/"
        },
        "id": "CWfWK3TW5uDr",
        "outputId": "28222c78-5c75-49dc-dea1-29c9f8925a86"
      },
      "source": [
        "X_train.shape"
      ],
      "execution_count": null,
      "outputs": [
        {
          "output_type": "execute_result",
          "data": {
            "text/plain": [
              "(500, 1)"
            ]
          },
          "metadata": {
            "tags": []
          },
          "execution_count": 41
        }
      ]
    },
    {
      "cell_type": "code",
      "metadata": {
        "id": "nPNE8d-75wZF"
      },
      "source": [
        "Y_train = Y_train.values.reshape(-1,1)\n",
        "Y_train"
      ],
      "execution_count": null,
      "outputs": []
    },
    {
      "cell_type": "code",
      "metadata": {
        "colab": {
          "base_uri": "https://localhost:8080/"
        },
        "id": "K7DCWn-96L8y",
        "outputId": "b7e94e4a-c2db-424e-b59d-002c73616240"
      },
      "source": [
        "from sklearn.linear_model import LinearRegression\n",
        "regressor = LinearRegression()\n",
        "regressor.fit(X_train, Y_train)"
      ],
      "execution_count": null,
      "outputs": [
        {
          "output_type": "execute_result",
          "data": {
            "text/plain": [
              "LinearRegression(copy_X=True, fit_intercept=True, n_jobs=None, normalize=False)"
            ]
          },
          "metadata": {
            "tags": []
          },
          "execution_count": 43
        }
      ]
    },
    {
      "cell_type": "code",
      "metadata": {
        "colab": {
          "base_uri": "https://localhost:8080/"
        },
        "id": "RbeBjcB46Zag",
        "outputId": "91c64a45-c319-48af-d951-9e47f9541f7f"
      },
      "source": [
        "#coeficiente - peso\n",
        "regressor.coef_"
      ],
      "execution_count": null,
      "outputs": [
        {
          "output_type": "execute_result",
          "data": {
            "text/plain": [
              "array([[21.44362551]])"
            ]
          },
          "metadata": {
            "tags": []
          },
          "execution_count": 44
        }
      ]
    },
    {
      "cell_type": "code",
      "metadata": {
        "colab": {
          "base_uri": "https://localhost:8080/"
        },
        "id": "zk7lZzls6sEX",
        "outputId": "36cef1d5-eb9e-4bfb-fbe4-494dcef31615"
      },
      "source": [
        "#interceptor\n",
        "regressor.intercept_"
      ],
      "execution_count": null,
      "outputs": [
        {
          "output_type": "execute_result",
          "data": {
            "text/plain": [
              "array([44.83126709])"
            ]
          },
          "metadata": {
            "tags": []
          },
          "execution_count": 45
        }
      ]
    },
    {
      "cell_type": "code",
      "metadata": {
        "colab": {
          "base_uri": "https://localhost:8080/",
          "height": 282
        },
        "id": "ydqEOFIS666R",
        "outputId": "21cfc8c9-929e-4a3a-85dc-0b7361be72dd"
      },
      "source": [
        "plt.scatter(X_train, Y_train, color='gray')\n",
        "plt.plot(X_train, regressor.predict(X_train), color='red') "
      ],
      "execution_count": null,
      "outputs": [
        {
          "output_type": "execute_result",
          "data": {
            "text/plain": [
              "[<matplotlib.lines.Line2D at 0x7f31d3584810>]"
            ]
          },
          "metadata": {
            "tags": []
          },
          "execution_count": 48
        },
        {
          "output_type": "display_data",
          "data": {
            "image/png": "[encoded data removed]",
            "text/plain": [
              "<Figure size 432x288 with 1 Axes>"
            ]
          },
          "metadata": {
            "tags": [],
            "needs_background": "light"
          }
        }
      ]
    },
    {
      "cell_type": "code",
      "metadata": {
        "colab": {
          "base_uri": "https://localhost:8080/"
        },
        "id": "giqAGoe27K3W",
        "outputId": "b36e242c-06c2-4e2c-c67e-8e7142aaee6f"
      },
      "source": [
        "#predicao com liner\n",
        "regressor.predict([[5]])"
      ],
      "execution_count": null,
      "outputs": [
        {
          "output_type": "execute_result",
          "data": {
            "text/plain": [
              "array([[152.04939464]])"
            ]
          },
          "metadata": {
            "tags": []
          },
          "execution_count": 50
        }
      ]
    }
  ]
}